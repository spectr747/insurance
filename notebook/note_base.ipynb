{
 "cells": [
  {
   "cell_type": "code",
   "execution_count": 1,
   "metadata": {},
   "outputs": [],
   "source": [
    "import pandas as pd\n",
    "import numpy as np\n",
    "import joblib\n",
    "\n",
    "from sklearn.preprocessing import MinMaxScaler, OneHotEncoder\n",
    "from sklearn.model_selection import train_test_split\n",
    "from sklearn.ensemble import GradientBoostingClassifier"
   ]
  },
  {
   "cell_type": "code",
   "execution_count": 2,
   "metadata": {},
   "outputs": [],
   "source": [
    "df                = pd.read_csv('data/Данные для задачи.txt',sep=';')"
   ]
  },
  {
   "cell_type": "code",
   "execution_count": 3,
   "metadata": {},
   "outputs": [],
   "source": [
    "num_cols          = []\n",
    "bin_cols          = []\n",
    "cat_cols          = []\n",
    "\n",
    "for col in df.columns.drop(['DATA_TYPE','POLICY_ID','POLICY_IS_RENEWED']):        \n",
    "    if df[col].dtype == 'object':\n",
    "        cat_cols.append(col)\n",
    "    elif (df[col].unique().shape[0] == 2) & (df[col].dtype != 'object'):\n",
    "        bin_cols.append(col)\n",
    "    else:\n",
    "        num_cols.append(col)  "
   ]
  },
  {
   "cell_type": "code",
   "execution_count": 4,
   "metadata": {},
   "outputs": [],
   "source": [
    "#Binary columns\n",
    "df_bin            = df[bin_cols]"
   ]
  },
  {
   "cell_type": "code",
   "execution_count": 5,
   "metadata": {},
   "outputs": [],
   "source": [
    "#Numerical columns\n",
    "scaler            = MinMaxScaler()\n",
    "scaler_obj        = scaler.fit(df[num_cols])\n",
    "df_scaled         = pd.DataFrame(scaler_obj.transform(df[num_cols]), columns=num_cols)"
   ]
  },
  {
   "cell_type": "code",
   "execution_count": 6,
   "metadata": {},
   "outputs": [],
   "source": [
    "#Categorial columns\n",
    "ohe               = OneHotEncoder(handle_unknown = 'ignore')\n",
    "ohe_obj           = ohe.fit(df[cat_cols])\n",
    "cat_ohe_cols      = ohe.get_feature_names(cat_cols)\n",
    "df_ohe            = pd.DataFrame(ohe_obj.transform(df[cat_cols]).toarray(), columns=cat_ohe_cols)"
   ]
  },
  {
   "cell_type": "code",
   "execution_count": 7,
   "metadata": {},
   "outputs": [],
   "source": [
    "features          = dict({'num_cols':num_cols,'bin_cols':bin_cols,'cat_cols':cat_cols,'cat_ohe_cols':cat_ohe_cols})"
   ]
  },
  {
   "cell_type": "code",
   "execution_count": 8,
   "metadata": {},
   "outputs": [],
   "source": [
    "df                = pd.concat((df_bin, df_scaled, df_ohe, df[['DATA_TYPE','POLICY_IS_RENEWED']]),axis=1).set_index(np.arange(0,df.shape[0]))"
   ]
  },
  {
   "cell_type": "code",
   "execution_count": 9,
   "metadata": {},
   "outputs": [],
   "source": [
    "x_cnt_rows        = df[df['DATA_TYPE'] == 'TRAIN'].shape[0]\n",
    "x_ts_cnt_rows     = df[df['DATA_TYPE'] == 'TEST '].shape[0]\n",
    "all_cnt_rows      = df.shape[0]\n",
    "X                 = df[df['DATA_TYPE'] == 'TRAIN'].drop(('POLICY_IS_RENEWED'), axis=1).set_index(np.arange(0,x_cnt_rows))\n",
    "X_ts              = df[df['DATA_TYPE'] == 'TEST '].drop(('POLICY_IS_RENEWED'), axis=1).set_index(np.arange(x_cnt_rows, all_cnt_rows))\n",
    "\n",
    "X                 = X.drop(('DATA_TYPE'), axis=1)\n",
    "X_ts              = X_ts.drop(('DATA_TYPE'), axis=1)\n",
    "y                 = df[df['DATA_TYPE'] == 'TRAIN']['POLICY_IS_RENEWED']\n",
    "y_ts              = df[df['DATA_TYPE'] == 'TEST ']['POLICY_IS_RENEWED']\n",
    "feature_names     = X.columns\n",
    "    \n",
    "X_train, X_test, y_train, y_test = train_test_split(X, y, test_size = 0.3, random_state = 11)"
   ]
  },
  {
   "cell_type": "code",
   "execution_count": 11,
   "metadata": {},
   "outputs": [],
   "source": [
    "gbt_model         = GradientBoostingClassifier(n_estimators=100, random_state=11)"
   ]
  },
  {
   "cell_type": "code",
   "execution_count": 12,
   "metadata": {},
   "outputs": [
    {
     "name": "stdout",
     "output_type": "stream",
     "text": [
      "Wall time: 5min 17s\n"
     ]
    },
    {
     "data": {
      "text/plain": [
       "GradientBoostingClassifier(random_state=11)"
      ]
     },
     "execution_count": 12,
     "metadata": {},
     "output_type": "execute_result"
    }
   ],
   "source": [
    "%%time\n",
    "gbt_model.fit(X,y)"
   ]
  },
  {
   "cell_type": "code",
   "execution_count": 13,
   "metadata": {},
   "outputs": [],
   "source": [
    "path              = '../deploy/'\n",
    "objs              = dict({'feats':features,'scale':scaler_obj,'ohe':ohe_obj,'model':gbt_model})\n",
    "for obj, file in objs.items():\n",
    "    joblib.dump(file,path + obj + '.pkl')"
   ]
  },
  {
   "cell_type": "code",
   "execution_count": null,
   "metadata": {},
   "outputs": [],
   "source": []
  }
 ],
 "metadata": {
  "kernelspec": {
   "display_name": "Python 3",
   "language": "python",
   "name": "python3"
  },
  "language_info": {
   "codemirror_mode": {
    "name": "ipython",
    "version": 3
   },
   "file_extension": ".py",
   "mimetype": "text/x-python",
   "name": "python",
   "nbconvert_exporter": "python",
   "pygments_lexer": "ipython3",
   "version": "3.8.3"
  }
 },
 "nbformat": 4,
 "nbformat_minor": 4
}
